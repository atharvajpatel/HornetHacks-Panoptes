{
 "cells": [
  {
   "cell_type": "markdown",
   "id": "db80e159-c115-4fb8-b6c2-a955ebf78b2f",
   "metadata": {},
   "source": [
    "# Photogrammetry\n",
    "\n",
    "## Step 0: some coordinate transformations"
   ]
  },
  {
   "cell_type": "code",
   "execution_count": 3,
   "id": "8c709678-22aa-4d79-a2e7-716a40c78a0f",
   "metadata": {
    "tags": []
   },
   "outputs": [],
   "source": [
    "import numpy as np\n",
    "from dataclasses import dataclass\n",
    "from typing import Optional\n",
    "\n",
    "@dataclass\n",
    "class Point2D:\n",
    "    u: float\n",
    "    v: float\n",
    "    \n",
    "    def to_array(self) -> np.ndarray:\n",
    "        return np.array([self.u, self.v])\n",
    "    \n",
    "    @classmethod\n",
    "    def from_array(cls, arr: np.ndarray) -> 'Point2D':\n",
    "        return cls(float(arr[0]), float(arr[1]))\n",
    "    \n",
    "    @classmethod\n",
    "    def from_point3D(cls, p: Point3D) -> 'Point2D':\n",
    "        return cls(p.x/p.z, p.y/p.z)\n",
    "\n",
    "@dataclass\n",
    "class Point3D:\n",
    "    x: float\n",
    "    y: float\n",
    "    z: float\n",
    "    \n",
    "    def to_array(self) -> np.ndarray:\n",
    "        return np.array([self.x, self.y, self.z])\n",
    "    \n",
    "    def to_homogeneous(self) -> np.ndarray:\n",
    "        return np.array([self.x, self.y, self.z, 1.0])\n",
    "    \n",
    "    @classmethod\n",
    "    def from_array(cls, arr: np.ndarray) -> 'Point3D':\n",
    "        return cls(float(arr[0]), float(arr[1]), float(arr[2]))\n",
    "\n",
    "@dataclass\n",
    "class Line:\n",
    "    # Point on line\n",
    "    x: float\n",
    "    y: float\n",
    "    z: float\n",
    "    # Direction vector (should be normalized)\n",
    "    vx: float\n",
    "    vy: float\n",
    "    vz: float\n",
    "    \n",
    "    def to_arrays(self) -> tuple[np.ndarray, np.ndarray]:\n",
    "        return (\n",
    "            np.array([self.x, self.y, self.z]),\n",
    "            np.array([self.vx, self.vy, self.vz])\n",
    "        )\n",
    "    \n",
    "    @classmethod\n",
    "    def from_arrays(cls, point: np.ndarray, direction: np.ndarray) -> 'Line':\n",
    "        # Normalize direction vector\n",
    "        direction = direction / np.linalg.norm(direction)\n",
    "        return cls(\n",
    "            float(point[0]), float(point[1]), float(point[2]),\n",
    "            float(direction[0]), float(direction[1]), float(direction[2])\n",
    "        )\n",
    "\n",
    "@dataclass\n",
    "class EarthCoord:\n",
    "    longitude: float  # degrees\n",
    "    latitude: float   # degrees\n",
    "    altitude: float   # meters\n",
    "    \n",
    "    def to_array(self) -> np.ndarray:\n",
    "        return np.array([self.longitude, self.latitude, self.altitude])\n",
    "    \n",
    "    @classmethod\n",
    "    def from_array(cls, arr: np.ndarray) -> 'EarthCoord':\n",
    "        return cls(float(arr[0]), float(arr[1]), float(arr[2]))\n",
    "\n",
    "class Transform3D:\n",
    "    def __init__(self, R: np.ndarray, t: np.ndarray):\n",
    "        \"\"\"\n",
    "        rotation matrix R (3x3) and translation vector t (3,)\n",
    "        \"\"\"\n",
    "        self.R = R.copy()\n",
    "        self.t = t.copy()\n",
    "        self.R_inv = self.R.transpose()\n",
    "        self.t_inv = -self.R_inv @ t\n",
    "        \n",
    "    def forward_matrix(self) -> np.ndarray:\n",
    "        mat = np.eye(4)\n",
    "        mat[:3, :3] = self.R\n",
    "        mat[:3, 3] = self.t\n",
    "        return mat\n",
    "    \n",
    "    def backward_matrix(self) -> np.ndarray:\n",
    "        mat = np.eye(4)\n",
    "        mat[:3, :3] = self.R_inv\n",
    "        mat[:3, 3] = self.t_inv\n",
    "        return mat\n",
    "    \n",
    "    def forward_transform_point(self, point: Point3D) -> Point3D:\n",
    "        p = point.to_array()\n",
    "        p_new = self.R @ p + self.t\n",
    "        return Point3D.from_array(p_new)\n",
    "    \n",
    "    def backward_transform_point(self, point: Point3D) -> Point3D:\n",
    "        p = point.to_array()\n",
    "        p_new = self.R_inv @ (p - self.t)\n",
    "        return Point3D.from_array(p_new)\n",
    "    \n",
    "    def forward_transform_line(self, line: Line) -> Line:\n",
    "        p, v = line.to_arrays()\n",
    "        p_new = self.R @ p + self.t\n",
    "        v_new = self.R @ v\n",
    "        return Line.from_arrays(p_new, v_new)\n",
    "    \n",
    "    def backward_transform_line(self, line: Line) -> Line:\n",
    "        p, v = line.to_arrays()\n",
    "        p_new = self.R_inv @ (p - self.t)\n",
    "        v_new = self.R_inv @ v\n",
    "        return Line.from_arrays(p_new, v_new)\n",
    "\n",
    "class TransformCamera:\n",
    "    def __init__(self, K: np.ndarray, R: np.ndarray, t: np.ndarray):\n",
    "        \"\"\"\n",
    "        K: 3x3 camera intrinsic matrix\n",
    "        R: 3x3 camera rotation matrix\n",
    "        t: 3, camera translation vector\n",
    "        \"\"\"\n",
    "        self.K = K.copy()\n",
    "        self.K_inv = np.linalg.inv(K)\n",
    "        self.transform = Transform3D(R, t)\n",
    "    \n",
    "    def forward_projection(self, point: Point3D) -> Point2D:\n",
    "        p_cam = self.transform.forward_transform_point(point)\n",
    "        assert p_cam.z > 0, \"The point should be in front of the camera.\"\n",
    "        uv = self.K @ p_cam.to_array()\n",
    "        return Point2D.from_point3D(uv)\n",
    "    \n",
    "    def backward_projection(self, point: Point2D) -> Line:\n",
    "        # Get normalized direction in camera coordinates\n",
    "        uv_homo = np.array([point.u, point.v, 1.0])\n",
    "        direction = self.K_inv @ uv_homo\n",
    "        \n",
    "        # Ray starts at camera center ((0, 0, 0) in camera coordinates)\n",
    "        camera_ray = Line(0.0, 0.0, 0.0, direction[0], direction[1], direction[2])\n",
    "        return self.transform.backward_transform_line(camera_ray)"
   ]
  },
  {
   "cell_type": "code",
   "execution_count": 20,
   "id": "d1ac7d0d-2116-4142-a35a-f9d6c2bef436",
   "metadata": {
    "tags": []
   },
   "outputs": [
    {
     "data": {
      "text/plain": [
       "Point3D(x=0.9999999999999998, y=1.9999999999999998, z=3.0)"
      ]
     },
     "execution_count": 20,
     "metadata": {},
     "output_type": "execute_result"
    }
   ],
   "source": [
    "theta = 0.3\n",
    "trans = Transform3D(np.array([[np.cos(theta), np.sin(theta), 0],\n",
    "                              [-np.sin(theta), np.cos(theta), 0],\n",
    "                              [0, 0, 1]]), \n",
    "                    np.array([1, 0, 0]))\n",
    "point = Point3D(1, 2, 3)\n",
    "trans.backward_transform_point(trans.forward_transform_point(point))"
   ]
  },
  {
   "cell_type": "markdown",
   "id": "92232e04-1606-4d4a-95bd-c16c97bef11e",
   "metadata": {},
   "source": [
    "## Step 1: Camera calibration\n",
    "\n",
    "`camera_resection: [(Point3D, Point2D)] -> TransformCamera`"
   ]
  },
  {
   "cell_type": "code",
   "execution_count": 21,
   "id": "8f673334-763a-4b3c-aaaa-5180b4c79515",
   "metadata": {
    "tags": []
   },
   "outputs": [],
   "source": [
    "def camera_resection(matched_points: [(Point3D, Point2D)]) -> TransformCamera:\n",
    "    # Call cv2.solvePnP\n",
    "    return 0\n",
    "\n"
   ]
  },
  {
   "cell_type": "code",
   "execution_count": null,
   "id": "d62a52f2-c23f-4f1a-8671-8d7bab44783a",
   "metadata": {},
   "outputs": [],
   "source": []
  },
  {
   "cell_type": "code",
   "execution_count": 19,
   "id": "8e301bf9-e0ca-4b4f-a446-208758bdabfd",
   "metadata": {
    "tags": []
   },
   "outputs": [
    {
     "data": {
      "text/plain": [
       "3"
      ]
     },
     "execution_count": 19,
     "metadata": {},
     "output_type": "execute_result"
    }
   ],
   "source": []
  },
  {
   "cell_type": "code",
   "execution_count": null,
   "id": "b5042112-cf92-46d5-bbda-2fe8d2136b38",
   "metadata": {},
   "outputs": [],
   "source": []
  }
 ],
 "metadata": {
  "kernelspec": {
   "display_name": "Python [conda env:hornet]",
   "language": "python",
   "name": "conda-env-hornet-py"
  },
  "language_info": {
   "codemirror_mode": {
    "name": "ipython",
    "version": 3
   },
   "file_extension": ".py",
   "mimetype": "text/x-python",
   "name": "python",
   "nbconvert_exporter": "python",
   "pygments_lexer": "ipython3",
   "version": "3.10.15"
  }
 },
 "nbformat": 4,
 "nbformat_minor": 5
}
